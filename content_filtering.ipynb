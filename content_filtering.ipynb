{
  "metadata": {
    "kernelspec": {
      "name": "python",
      "display_name": "Python (Pyodide)",
      "language": "python"
    },
    "language_info": {
      "codemirror_mode": {
        "name": "python",
        "version": 3
      },
      "file_extension": ".py",
      "mimetype": "text/x-python",
      "name": "python",
      "nbconvert_exporter": "python",
      "pygments_lexer": "ipython3",
      "version": "3.8"
    }
  },
  "nbformat_minor": 4,
  "nbformat": 4,
  "cells": [
    {
      "cell_type": "code",
      "source": "%pip install numpy",
      "metadata": {
        "trusted": true
      },
      "outputs": [],
      "execution_count": 7
    },
    {
      "cell_type": "code",
      "source": "import numpy as np\nfrom scipy.spatial.distance import cosine\nfrom sklearn.feature_extraction.text import TfidfVectorizer\nfrom sklearn.metrics.pairwise import cosine_similarity",
      "metadata": {
        "trusted": true
      },
      "outputs": [],
      "execution_count": 8
    },
    {
      "cell_type": "code",
      "source": "users = ['Alice', 'Bob', 'Charlie']\nitems = ['Book1', 'Book2', 'Book3', 'Book4', 'Book5']\nitem_descriptions = {\n    'Book1': 'A fantasy novel about a young wizard',\n    'Book2': 'A science fiction story set in a dystopian future',\n    'Book3': 'A romantic comedy about two best friends',\n    'Book4': 'A thriller novel with a twisted plot',\n    'Book5': 'A historical fiction book set in World War II'\n}\nratings = {\n    'Alice': {'Book1': 5, 'Book2': 3, 'Book3': 4},\n    'Bob': {'Book2': 4, 'Book4': 5},\n    'Charlie': {'Book3': 3, 'Book4': 4, 'Book5': 5}\n}\n",
      "metadata": {
        "trusted": true
      },
      "outputs": [],
      "execution_count": 9
    },
    {
      "cell_type": "code",
      "source": "vectorizer = TfidfVectorizer()\nitem_vectors = vectorizer.fit_transform(item_descriptions.values())\n\n# Calculate item similarities\nitem_sim_matrix = cosine_similarity(item_vectors)\n\ndef content_based_filtering(user, item, weight_type='binary'):\n    # Get the items the user has rated\n    user_items = ratings[user].keys()\n    \n    # Calculate the score\n    score = 0\n    total_weight = 0\n    target_vector = item_vectors[items.index(item)]\n    \n    for other_item in items:\n        if other_item != item:\n            other_vector = item_vectors[items.index(other_item)]\n            sim = item_sim_matrix[items.index(item), items.index(other_item)]\n            \n            if other_item in user_items:\n                rating = ratings[user][other_item]\n                \n                # Calculate the weight\n                if weight_type == 'binary':\n                    weight = 1\n                elif weight_type == 'rating':\n                    user_mean_rating = sum(ratings[user].values()) / len(ratings[user])\n                    weight = abs(rating - user_mean_rating)\n                elif weight_type == 'confidence':\n                    # Implement a confidence function based on rating age, source, etc.\n                    weight = 1  # Dummy implementation\n                \n                score += weight * sim * rating\n                total_weight += weight * sim\n    \n    if total_weight > 0:\n        score /= total_weight\n    \n    return score",
      "metadata": {
        "trusted": true
      },
      "outputs": [],
      "execution_count": 10
    },
    {
      "cell_type": "code",
      "source": "# test\nuser = 'Alice'\nitem = 'Book4'\nscore = content_based_filtering(user, item, weight_type='rating')\nprint(f\"Predicted score for {user} and {item}: {score}\")",
      "metadata": {
        "trusted": true
      },
      "outputs": [
        {
          "name": "stdout",
          "text": "Predicted score for Alice and Book4: 5.0\n",
          "output_type": "stream"
        }
      ],
      "execution_count": 11
    },
    {
      "cell_type": "code",
      "source": "",
      "metadata": {
        "trusted": true
      },
      "outputs": [],
      "execution_count": null
    }
  ]
}