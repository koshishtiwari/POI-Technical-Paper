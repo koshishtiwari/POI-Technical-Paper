{
  "metadata": {
    "kernelspec": {
      "name": "python",
      "display_name": "Python (Pyodide)",
      "language": "python"
    },
    "language_info": {
      "codemirror_mode": {
        "name": "python",
        "version": 3
      },
      "file_extension": ".py",
      "mimetype": "text/x-python",
      "name": "python",
      "nbconvert_exporter": "python",
      "pygments_lexer": "ipython3",
      "version": "3.8"
    }
  },
  "nbformat_minor": 4,
  "nbformat": 4,
  "cells": [
    {
      "cell_type": "code",
      "source": "import numpy as np\n\ndef CF_score(user, item):\n    return np.random.rand()\n\ndef CB_score(user, item):\n    return np.random.rand()\n\ndef fallback_score(user, item):\n    return np.random.rand()\n\ndef switching_hybrid(user, item):\n    if user == 'Alice':\n        hybrid_score = CF_score(user, item)\n    elif user == 'Bob':\n        hybrid_score = CB_score(user, item)\n    else:\n        hybrid_score = fallback_score(user, item)\n    \n    return hybrid_score",
      "metadata": {
        "trusted": true
      },
      "outputs": [],
      "execution_count": 3
    },
    {
      "cell_type": "code",
      "source": "# Test\nuser = 'Charlie'\nitem = 'Book4'\nhybrid_score = switching_hybrid(user, item)\nprint(f\"Hybrid recommendation score for {user} and {item}: {hybrid_score}\")",
      "metadata": {
        "trusted": true
      },
      "outputs": [
        {
          "name": "stdout",
          "text": "Hybrid recommendation score for Charlie and Book4: 0.9249244006574361\n",
          "output_type": "stream"
        }
      ],
      "execution_count": 4
    },
    {
      "cell_type": "code",
      "source": "",
      "metadata": {
        "trusted": true
      },
      "outputs": [],
      "execution_count": null
    }
  ]
}