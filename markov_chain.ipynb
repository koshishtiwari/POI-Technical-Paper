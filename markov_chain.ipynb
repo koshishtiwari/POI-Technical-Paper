{
  "metadata": {
    "kernelspec": {
      "name": "python",
      "display_name": "Python (Pyodide)",
      "language": "python"
    },
    "language_info": {
      "codemirror_mode": {
        "name": "python",
        "version": 3
      },
      "file_extension": ".py",
      "mimetype": "text/x-python",
      "name": "python",
      "nbconvert_exporter": "python",
      "pygments_lexer": "ipython3",
      "version": "3.8"
    }
  },
  "nbformat_minor": 4,
  "nbformat": 4,
  "cells": [
    {
      "cell_type": "code",
      "source": "import numpy as np\n\nstates = ['A', 'B', 'C', 'D', 'E']\ntransition_matrix = np.array([\n    [0.2, 0.3, 0.1, 0.2, 0.2],\n    [0.4, 0.1, 0.2, 0.1, 0.2],\n    [0.3, 0.2, 0.1, 0.3, 0.1],\n    [0.1, 0.2, 0.4, 0.1, 0.2],\n    [0.2, 0.1, 0.3, 0.2, 0.2]\n])\n\ndef markov_chain_recommendation(current_state, n_steps=1):\n    state_probs = np.copy(transition_matrix[states.index(current_state), :])\n    \n    for _ in range(n_steps - 1):\n        state_probs = np.dot(state_probs, transition_matrix)\n    \n    recommended_state = states[np.argmax(state_probs)]\n    return recommended_state\n\n",
      "metadata": {
        "trusted": true
      },
      "outputs": [],
      "execution_count": 3
    },
    {
      "cell_type": "code",
      "source": "# test\ncurrent_state = 'A'\nnext_state = markov_chain_recommendation(current_state, n_steps=2)\nprint(f\"Recommended next state from {current_state}: {next_state}\")",
      "metadata": {
        "trusted": true
      },
      "outputs": [
        {
          "name": "stdout",
          "text": "Recommended next state from A: A\n",
          "output_type": "stream"
        }
      ],
      "execution_count": 4
    },
    {
      "cell_type": "code",
      "source": "",
      "metadata": {
        "trusted": true
      },
      "outputs": [],
      "execution_count": null
    }
  ]
}