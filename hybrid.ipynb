{
  "metadata": {
    "kernelspec": {
      "name": "python",
      "display_name": "Python (Pyodide)",
      "language": "python"
    },
    "language_info": {
      "codemirror_mode": {
        "name": "python",
        "version": 3
      },
      "file_extension": ".py",
      "mimetype": "text/x-python",
      "name": "python",
      "nbconvert_exporter": "python",
      "pygments_lexer": "ipython3",
      "version": "3.8"
    }
  },
  "nbformat_minor": 4,
  "nbformat": 4,
  "cells": [
    {
      "cell_type": "code",
      "source": "import numpy as np\n\n# Dummy implementations of CF and CB scoring functions\ndef CF_score(user, item):\n    # Collaborative filtering scoring logic\n    return np.random.rand()\n\ndef CB_score(user, item):\n    # Content-based filtering scoring logic\n    return np.random.rand()\n\ndef weighted_hybrid(user, item, w_CF=0.5, w_CB=0.5):\n    CF_score_val = CF_score(user, item)\n    CB_score_val = CB_score(user, item)\n    \n    hybrid_score = w_CF * CF_score_val + w_CB * CB_score_val\n    \n    return hybrid_score",
      "metadata": {
        "trusted": true
      },
      "outputs": [],
      "execution_count": 3
    },
    {
      "cell_type": "code",
      "source": "#test\nuser = 'Alice'\nitem = 'Book4'\nhybrid_score = weighted_hybrid(user, item, w_CF=0.6, w_CB=0.4)\nprint(f\"Hybrid recommendation score for {user} and {item}: {hybrid_score}\")",
      "metadata": {
        "trusted": true
      },
      "outputs": [
        {
          "name": "stdout",
          "text": "Hybrid recommendation score for Alice and Book4: 0.35476720805580425\n",
          "output_type": "stream"
        }
      ],
      "execution_count": 4
    },
    {
      "cell_type": "code",
      "source": "",
      "metadata": {
        "trusted": true
      },
      "outputs": [],
      "execution_count": null
    }
  ]
}