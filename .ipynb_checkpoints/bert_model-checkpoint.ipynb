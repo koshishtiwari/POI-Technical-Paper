{
 "cells": [
  {
   "cell_type": "code",
   "execution_count": 1,
   "id": "b81b5d6a-ba54-42f2-af98-18b8fc268cc4",
   "metadata": {},
   "outputs": [],
   "source": [
    "import torch"
   ]
  },
  {
   "cell_type": "code",
   "execution_count": 3,
   "id": "d66c883b-3b8a-4ff6-a22f-27e09591ab89",
   "metadata": {},
   "outputs": [],
   "source": [
    "import torch.nn as nn"
   ]
  },
  {
   "cell_type": "code",
   "execution_count": 4,
   "id": "c4def8b1-f1fc-447e-a435-bf8f8c4bf526",
   "metadata": {},
   "outputs": [
    {
     "name": "stdout",
     "output_type": "stream",
     "text": [
      "Recommendation score for Alice and Central Park: 0.11415189504623413\n"
     ]
    }
   ],
   "source": [
    "users = ['Alice', 'Bob', 'Charlie']\n",
    "locations = ['New York', 'Paris', 'Tokyo']\n",
    "pois = ['Central Park', 'Eiffel Tower', 'Shibuya Crossing']\n",
    "user_texts = {\n",
    "    'Alice': ['I love exploring parks and enjoying nature.'],\n",
    "    'Bob': ['I enjoy visiting famous landmarks and historical sites.'],\n",
    "    'Charlie': ['I like vibrant and lively places with great food and nightlife.']\n",
    "}\n",
    "poi_texts = {\n",
    "    'Central Park': ['A beautiful park in the heart of New York City, offering lush green spaces and recreational activities.'],\n",
    "    'Eiffel Tower': ['One of the most iconic landmarks in Paris, offering stunning views of the city from its observation decks.'],\n",
    "    'Shibuya Crossing': ['A famous scramble crossing in Tokyo, known for its vibrant atmosphere and surrounding shopping and dining areas.']\n",
    "}\n",
    "\n",
    "# Initialize tokenizer and vocabulary\n",
    "vocab = set()\n",
    "for user_text in user_texts.values():\n",
    "    for text in user_text:\n",
    "        vocab.update(text.split())\n",
    "for poi_text in poi_texts.values():\n",
    "    for text in poi_text:\n",
    "        vocab.update(text.split())\n",
    "vocab.add('<unk>')\n",
    "word2idx = {word: idx for idx, word in enumerate(vocab)}\n",
    "idx2word = {idx: word for word, idx in word2idx.items()}\n",
    "\n",
    "class BERTModel(nn.Module):\n",
    "    def __init__(self, vocab_size, embedding_dim, hidden_dim):\n",
    "        super(BERTModel, self).__init__()\n",
    "        self.embeddings = nn.Embedding(vocab_size, embedding_dim)\n",
    "        self.encoder = nn.LSTM(embedding_dim, hidden_dim, batch_first=True)\n",
    "\n",
    "    def forward(self, inputs):\n",
    "        embeds = self.embeddings(inputs)\n",
    "        _, (hidden, _) = self.encoder(embeds)\n",
    "        return hidden.squeeze(0)\n",
    "\n",
    "vocab_size = len(vocab)\n",
    "embedding_dim = 100\n",
    "hidden_dim = 256\n",
    "model = BERTModel(vocab_size, embedding_dim, hidden_dim)\n",
    "\n",
    "def tokenize(text):\n",
    "    return [word2idx.get(word, word2idx['<unk>']) for word in text.split()]\n",
    "\n",
    "def bert4loc_recommendation(user, poi):\n",
    "    user_inputs = torch.tensor([tokenize(text) for text in user_texts[user]], dtype=torch.long)\n",
    "    poi_inputs = torch.tensor([tokenize(text) for text in poi_texts[poi]], dtype=torch.long)\n",
    "\n",
    "    user_embeddings = model(user_inputs)\n",
    "    poi_embeddings = model(poi_inputs)\n",
    "\n",
    "    score = torch.cosine_similarity(user_embeddings.mean(dim=0), poi_embeddings.mean(dim=0), dim=0)\n",
    "    return score.item()\n"
   ]
  },
  {
   "cell_type": "code",
   "execution_count": 5,
   "id": "536ace82-dab3-46a8-bed4-77bddac594b5",
   "metadata": {},
   "outputs": [
    {
     "name": "stdout",
     "output_type": "stream",
     "text": [
      "Recommendation score for Alice and Central Park: 0.11415189504623413\n"
     ]
    }
   ],
   "source": [
    "#test\n",
    "user = 'Alice'\n",
    "poi = 'Central Park'\n",
    "score = bert4loc_recommendation(user, poi)\n",
    "print(f\"Recommendation score for {user} and {poi}: {score}\")"
   ]
  },
  {
   "cell_type": "code",
   "execution_count": null,
   "id": "21f698c8-6a67-423b-b77b-3ec4a9bd69ce",
   "metadata": {},
   "outputs": [],
   "source": []
  }
 ],
 "metadata": {
  "kernelspec": {
   "display_name": "Python 3 (ipykernel)",
   "language": "python",
   "name": "python3"
  },
  "language_info": {
   "codemirror_mode": {
    "name": "ipython",
    "version": 3
   },
   "file_extension": ".py",
   "mimetype": "text/x-python",
   "name": "python",
   "nbconvert_exporter": "python",
   "pygments_lexer": "ipython3",
   "version": "3.11.7"
  }
 },
 "nbformat": 4,
 "nbformat_minor": 5
}
