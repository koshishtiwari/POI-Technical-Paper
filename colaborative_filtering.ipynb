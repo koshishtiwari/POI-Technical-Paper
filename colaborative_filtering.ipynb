{
  "metadata": {
    "kernelspec": {
      "name": "python",
      "display_name": "Python (Pyodide)",
      "language": "python"
    },
    "language_info": {
      "codemirror_mode": {
        "name": "python",
        "version": 3
      },
      "file_extension": ".py",
      "mimetype": "text/x-python",
      "name": "python",
      "nbconvert_exporter": "python",
      "pygments_lexer": "ipython3",
      "version": "3.8"
    }
  },
  "nbformat_minor": 4,
  "nbformat": 4,
  "cells": [
    {
      "cell_type": "code",
      "source": "import numpy as np\nfrom scipy.spatial.distance import correlation",
      "metadata": {
        "trusted": true
      },
      "outputs": [],
      "execution_count": 8
    },
    {
      "cell_type": "code",
      "source": "\nusers = ['Alice', 'Bob', 'Charlie', 'David']\nitems = ['Book1', 'Book2', 'Book3', 'Book4', 'Book5']\nratings = {\n    'Alice': {'Book1': 5, 'Book2': 3, 'Book3': 4},\n    'Bob': {'Book2': 4, 'Book4': 5},\n    'Charlie': {'Book3': 3, 'Book4': 4, 'Book5': 5},\n    'David': {'Book1': 4, 'Book3': 5, 'Book5': 3}\n}",
      "metadata": {
        "trusted": true
      },
      "outputs": [],
      "execution_count": 9
    },
    {
      "cell_type": "code",
      "source": "def item_based_cf(user, item):\n    user_items = ratings[user].keys()\n    \n    item_sims = {}\n    for other_item in items:\n        if other_item != item:\n            common_users = set([u for u in ratings if item in ratings[u] and other_item in ratings[u]])\n            if len(common_users) > 0:\n                item_ratings = [ratings[u][item] for u in common_users]\n                other_ratings = [ratings[u][other_item] for u in common_users]\n                item_sims[other_item] = 1 - cosine(item_ratings, other_ratings)\n    \n    numerator = 0\n    denominator = 0\n    for other_item, sim in item_sims.items():\n        if other_item in user_items:\n            numerator += sim * ratings[user][other_item]\n            denominator += sim\n    \n    if denominator > 0:\n        prediction = numerator / denominator\n    else:\n        prediction = np.nan\n    \n    return prediction\n",
      "metadata": {
        "trusted": true
      },
      "outputs": [],
      "execution_count": 10
    },
    {
      "cell_type": "code",
      "source": "user = 'Alice'\nitem = 'Book4'\npredicted_rating = user_based_cf(user, item)\nprint(f\"Predicted rating for {user} and {item}: {predicted_rating}\")",
      "metadata": {
        "trusted": true
      },
      "outputs": [
        {
          "name": "stdout",
          "text": "Predicted rating for Alice and Book4: 4.0\n",
          "output_type": "stream"
        }
      ],
      "execution_count": 11
    },
    {
      "cell_type": "code",
      "source": "",
      "metadata": {
        "trusted": true
      },
      "outputs": [],
      "execution_count": null
    },
    {
      "cell_type": "code",
      "source": "",
      "metadata": {
        "trusted": true
      },
      "outputs": [],
      "execution_count": null
    },
    {
      "cell_type": "code",
      "source": "",
      "metadata": {
        "trusted": true
      },
      "outputs": [],
      "execution_count": null
    }
  ]
}